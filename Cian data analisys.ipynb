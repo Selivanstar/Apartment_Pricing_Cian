{
 "cells": [
  {
   "cell_type": "markdown",
   "metadata": {},
   "source": [
    "# Project for predicting prices of a one room apartments in Kaliningrad, Russia\n",
    "\n",
    "Data for this project has been parsed from russian real estate site CIAN. Data has information for 2816 apartments thas were currently on the market. For training model i chose Random Forest Regressor."
   ]
  },
  {
   "cell_type": "code",
   "execution_count": 123,
   "metadata": {},
   "outputs": [],
   "source": [
    "import pandas as pd\n",
    "import numpy as np\n",
    "from sklearn.metrics import mean_absolute_error as mae\n",
    "from sklearn.preprocessing import OneHotEncoder\n",
    "from sklearn.model_selection import cross_val_score, train_test_split\n",
    "from sklearn.model_selection import GridSearchCV, RandomizedSearchCV\n",
    "from sklearn.ensemble import RandomForestRegressor\n",
    "import seaborn as sns"
   ]
  },
  {
   "cell_type": "markdown",
   "metadata": {},
   "source": [
    "## Import parsed data"
   ]
  },
  {
   "cell_type": "code",
   "execution_count": 130,
   "metadata": {
    "scrolled": false
   },
   "outputs": [
    {
     "data": {
      "text/html": [
       "<div>\n",
       "<style scoped>\n",
       "    .dataframe tbody tr th:only-of-type {\n",
       "        vertical-align: middle;\n",
       "    }\n",
       "\n",
       "    .dataframe tbody tr th {\n",
       "        vertical-align: top;\n",
       "    }\n",
       "\n",
       "    .dataframe thead th {\n",
       "        text-align: right;\n",
       "    }\n",
       "</style>\n",
       "<table border=\"1\" class=\"dataframe\">\n",
       "  <thead>\n",
       "    <tr style=\"text-align: right;\">\n",
       "      <th></th>\n",
       "      <th>Area</th>\n",
       "      <th>RoomFloor</th>\n",
       "      <th>TopFloor</th>\n",
       "      <th>Price</th>\n",
       "      <th>RoomArea</th>\n",
       "      <th>KitchenArea</th>\n",
       "      <th>BuildDate</th>\n",
       "      <th>BathroomNum</th>\n",
       "      <th>BathroomType</th>\n",
       "      <th>BalconyNum</th>\n",
       "      <th>BalconyType</th>\n",
       "      <th>Repair</th>\n",
       "      <th>TypeofBuilding</th>\n",
       "      <th>TypeofMaterial</th>\n",
       "      <th>Heating</th>\n",
       "      <th>GasSupply</th>\n",
       "      <th>District</th>\n",
       "    </tr>\n",
       "  </thead>\n",
       "  <tbody>\n",
       "    <tr>\n",
       "      <th>0</th>\n",
       "      <td>32.7</td>\n",
       "      <td>1</td>\n",
       "      <td>4</td>\n",
       "      <td>1550000</td>\n",
       "      <td>17.0</td>\n",
       "      <td>8.0</td>\n",
       "      <td>1937.0</td>\n",
       "      <td>1.0</td>\n",
       "      <td>совмещенный</td>\n",
       "      <td>NaN</td>\n",
       "      <td>NaN</td>\n",
       "      <td>Косметический</td>\n",
       "      <td>Кирпичный</td>\n",
       "      <td>NaN</td>\n",
       "      <td>NaN</td>\n",
       "      <td>NaN</td>\n",
       "      <td>central</td>\n",
       "    </tr>\n",
       "    <tr>\n",
       "      <th>1</th>\n",
       "      <td>32.6</td>\n",
       "      <td>1</td>\n",
       "      <td>3</td>\n",
       "      <td>1600000</td>\n",
       "      <td>16.3</td>\n",
       "      <td>8.8</td>\n",
       "      <td>NaN</td>\n",
       "      <td>NaN</td>\n",
       "      <td>NaN</td>\n",
       "      <td>NaN</td>\n",
       "      <td>NaN</td>\n",
       "      <td>NaN</td>\n",
       "      <td>NaN</td>\n",
       "      <td>NaN</td>\n",
       "      <td>NaN</td>\n",
       "      <td>NaN</td>\n",
       "      <td>central</td>\n",
       "    </tr>\n",
       "    <tr>\n",
       "      <th>2</th>\n",
       "      <td>35.5</td>\n",
       "      <td>3</td>\n",
       "      <td>5</td>\n",
       "      <td>1600000</td>\n",
       "      <td>16.8</td>\n",
       "      <td>9.4</td>\n",
       "      <td>1986.0</td>\n",
       "      <td>1.0</td>\n",
       "      <td>совмещенный</td>\n",
       "      <td>1.0</td>\n",
       "      <td>балкон</td>\n",
       "      <td>Косметический</td>\n",
       "      <td>NaN</td>\n",
       "      <td>NaN</td>\n",
       "      <td>NaN</td>\n",
       "      <td>NaN</td>\n",
       "      <td>central</td>\n",
       "    </tr>\n",
       "    <tr>\n",
       "      <th>3</th>\n",
       "      <td>36.1</td>\n",
       "      <td>5</td>\n",
       "      <td>5</td>\n",
       "      <td>1650000</td>\n",
       "      <td>17.6</td>\n",
       "      <td>13.2</td>\n",
       "      <td>1980.0</td>\n",
       "      <td>NaN</td>\n",
       "      <td>NaN</td>\n",
       "      <td>NaN</td>\n",
       "      <td>NaN</td>\n",
       "      <td>Косметический</td>\n",
       "      <td>NaN</td>\n",
       "      <td>NaN</td>\n",
       "      <td>NaN</td>\n",
       "      <td>NaN</td>\n",
       "      <td>central</td>\n",
       "    </tr>\n",
       "    <tr>\n",
       "      <th>4</th>\n",
       "      <td>30.0</td>\n",
       "      <td>2</td>\n",
       "      <td>2</td>\n",
       "      <td>1720000</td>\n",
       "      <td>15.5</td>\n",
       "      <td>7.0</td>\n",
       "      <td>1945.0</td>\n",
       "      <td>NaN</td>\n",
       "      <td>NaN</td>\n",
       "      <td>NaN</td>\n",
       "      <td>NaN</td>\n",
       "      <td>NaN</td>\n",
       "      <td>Кирпичный</td>\n",
       "      <td>Смешанные</td>\n",
       "      <td>Автономная котельная</td>\n",
       "      <td>Центральное</td>\n",
       "      <td>central</td>\n",
       "    </tr>\n",
       "    <tr>\n",
       "      <th>...</th>\n",
       "      <td>...</td>\n",
       "      <td>...</td>\n",
       "      <td>...</td>\n",
       "      <td>...</td>\n",
       "      <td>...</td>\n",
       "      <td>...</td>\n",
       "      <td>...</td>\n",
       "      <td>...</td>\n",
       "      <td>...</td>\n",
       "      <td>...</td>\n",
       "      <td>...</td>\n",
       "      <td>...</td>\n",
       "      <td>...</td>\n",
       "      <td>...</td>\n",
       "      <td>...</td>\n",
       "      <td>...</td>\n",
       "      <td>...</td>\n",
       "    </tr>\n",
       "    <tr>\n",
       "      <th>2811</th>\n",
       "      <td>39.0</td>\n",
       "      <td>1</td>\n",
       "      <td>8</td>\n",
       "      <td>2500000</td>\n",
       "      <td>17.0</td>\n",
       "      <td>10.0</td>\n",
       "      <td>2016.0</td>\n",
       "      <td>1.0</td>\n",
       "      <td>совмещенный</td>\n",
       "      <td>1.0</td>\n",
       "      <td>лоджия</td>\n",
       "      <td>Косметический</td>\n",
       "      <td>NaN</td>\n",
       "      <td>NaN</td>\n",
       "      <td>NaN</td>\n",
       "      <td>NaN</td>\n",
       "      <td>moskovski</td>\n",
       "    </tr>\n",
       "    <tr>\n",
       "      <th>2812</th>\n",
       "      <td>41.0</td>\n",
       "      <td>1</td>\n",
       "      <td>7</td>\n",
       "      <td>2600000</td>\n",
       "      <td>NaN</td>\n",
       "      <td>NaN</td>\n",
       "      <td>2019.0</td>\n",
       "      <td>1.0</td>\n",
       "      <td>совмещенный</td>\n",
       "      <td>1.0</td>\n",
       "      <td>лоджия</td>\n",
       "      <td>Евроремонт</td>\n",
       "      <td>NaN</td>\n",
       "      <td>NaN</td>\n",
       "      <td>NaN</td>\n",
       "      <td>NaN</td>\n",
       "      <td>moskovski</td>\n",
       "    </tr>\n",
       "    <tr>\n",
       "      <th>2813</th>\n",
       "      <td>59.0</td>\n",
       "      <td>5</td>\n",
       "      <td>10</td>\n",
       "      <td>2600000</td>\n",
       "      <td>23.0</td>\n",
       "      <td>11.0</td>\n",
       "      <td>1982.0</td>\n",
       "      <td>1.0</td>\n",
       "      <td>раздельный</td>\n",
       "      <td>1.0</td>\n",
       "      <td>балкон</td>\n",
       "      <td>Косметический</td>\n",
       "      <td>Панельный</td>\n",
       "      <td>Железобетонные</td>\n",
       "      <td>Центральное</td>\n",
       "      <td>Центральное</td>\n",
       "      <td>moskovski</td>\n",
       "    </tr>\n",
       "    <tr>\n",
       "      <th>2814</th>\n",
       "      <td>38.0</td>\n",
       "      <td>3</td>\n",
       "      <td>7</td>\n",
       "      <td>2700000</td>\n",
       "      <td>NaN</td>\n",
       "      <td>NaN</td>\n",
       "      <td>2019.0</td>\n",
       "      <td>1.0</td>\n",
       "      <td>совмещенный</td>\n",
       "      <td>1.0</td>\n",
       "      <td>лоджия</td>\n",
       "      <td>Евроремонт</td>\n",
       "      <td>NaN</td>\n",
       "      <td>NaN</td>\n",
       "      <td>NaN</td>\n",
       "      <td>NaN</td>\n",
       "      <td>moskovski</td>\n",
       "    </tr>\n",
       "    <tr>\n",
       "      <th>2815</th>\n",
       "      <td>38.0</td>\n",
       "      <td>4</td>\n",
       "      <td>6</td>\n",
       "      <td>2900000</td>\n",
       "      <td>NaN</td>\n",
       "      <td>NaN</td>\n",
       "      <td>2014.0</td>\n",
       "      <td>1.0</td>\n",
       "      <td>совмещенный</td>\n",
       "      <td>1.0</td>\n",
       "      <td>лоджия</td>\n",
       "      <td>Евроремонт</td>\n",
       "      <td>NaN</td>\n",
       "      <td>NaN</td>\n",
       "      <td>NaN</td>\n",
       "      <td>NaN</td>\n",
       "      <td>moskovski</td>\n",
       "    </tr>\n",
       "  </tbody>\n",
       "</table>\n",
       "<p>2816 rows × 17 columns</p>\n",
       "</div>"
      ],
      "text/plain": [
       "      Area  RoomFloor  TopFloor    Price  RoomArea  KitchenArea  BuildDate  \\\n",
       "0     32.7          1         4  1550000      17.0          8.0     1937.0   \n",
       "1     32.6          1         3  1600000      16.3          8.8        NaN   \n",
       "2     35.5          3         5  1600000      16.8          9.4     1986.0   \n",
       "3     36.1          5         5  1650000      17.6         13.2     1980.0   \n",
       "4     30.0          2         2  1720000      15.5          7.0     1945.0   \n",
       "...    ...        ...       ...      ...       ...          ...        ...   \n",
       "2811  39.0          1         8  2500000      17.0         10.0     2016.0   \n",
       "2812  41.0          1         7  2600000       NaN          NaN     2019.0   \n",
       "2813  59.0          5        10  2600000      23.0         11.0     1982.0   \n",
       "2814  38.0          3         7  2700000       NaN          NaN     2019.0   \n",
       "2815  38.0          4         6  2900000       NaN          NaN     2014.0   \n",
       "\n",
       "      BathroomNum  BathroomType  BalconyNum BalconyType         Repair  \\\n",
       "0             1.0   совмещенный         NaN         NaN  Косметический   \n",
       "1             NaN           NaN         NaN         NaN            NaN   \n",
       "2             1.0   совмещенный         1.0      балкон  Косметический   \n",
       "3             NaN           NaN         NaN         NaN  Косметический   \n",
       "4             NaN           NaN         NaN         NaN            NaN   \n",
       "...           ...           ...         ...         ...            ...   \n",
       "2811          1.0   совмещенный         1.0      лоджия  Косметический   \n",
       "2812          1.0   совмещенный         1.0      лоджия     Евроремонт   \n",
       "2813          1.0    раздельный         1.0      балкон  Косметический   \n",
       "2814          1.0   совмещенный         1.0      лоджия     Евроремонт   \n",
       "2815          1.0   совмещенный         1.0      лоджия     Евроремонт   \n",
       "\n",
       "     TypeofBuilding  TypeofMaterial               Heating    GasSupply  \\\n",
       "0         Кирпичный             NaN                   NaN          NaN   \n",
       "1               NaN             NaN                   NaN          NaN   \n",
       "2               NaN             NaN                   NaN          NaN   \n",
       "3               NaN             NaN                   NaN          NaN   \n",
       "4         Кирпичный       Смешанные  Автономная котельная  Центральное   \n",
       "...             ...             ...                   ...          ...   \n",
       "2811            NaN             NaN                   NaN          NaN   \n",
       "2812            NaN             NaN                   NaN          NaN   \n",
       "2813      Панельный  Железобетонные           Центральное  Центральное   \n",
       "2814            NaN             NaN                   NaN          NaN   \n",
       "2815            NaN             NaN                   NaN          NaN   \n",
       "\n",
       "       District  \n",
       "0       central  \n",
       "1       central  \n",
       "2       central  \n",
       "3       central  \n",
       "4       central  \n",
       "...         ...  \n",
       "2811  moskovski  \n",
       "2812  moskovski  \n",
       "2813  moskovski  \n",
       "2814  moskovski  \n",
       "2815  moskovski  \n",
       "\n",
       "[2816 rows x 17 columns]"
      ]
     },
     "execution_count": 130,
     "metadata": {},
     "output_type": "execute_result"
    }
   ],
   "source": [
    "# path for 3 parsed csv files\n",
    "cian_msk = 'cian_msk_complete.csv'\n",
    "cian_lenin = 'cian_lenin_complete.csv'\n",
    "cian_center = 'cian_center_complete.csv'\n",
    "\n",
    "# read csv\n",
    "msk_data = pd.read_csv(cian_msk, encoding='windows-1251')\n",
    "lenin_data = pd.read_csv(cian_lenin, encoding='windows-1251')\n",
    "center_data = pd.read_csv(cian_center, encoding='windows-1251')\n",
    "\n",
    "# adding 'district' feature\n",
    "district_msk = 'moskovski'\n",
    "district_center = 'central'\n",
    "district_lenin = 'leninski'\n",
    "center_data['District'] = district_center\n",
    "lenin_data['District'] = district_lenin\n",
    "msk_data['District'] = district_msk\n",
    "\n",
    "# combine data in one dataset\n",
    "whole_data = pd.concat([center_data, lenin_data, msk_data], axis=0,\n",
    "                       ignore_index='True')\n",
    "\n",
    "# drop feature which is not used for now (maybe will in the future)\n",
    "whole_data = whole_data.drop(['Address'], axis=1)\n",
    "\n",
    "# sample of a data\n",
    "whole_data"
   ]
  },
  {
   "cell_type": "markdown",
   "metadata": {},
   "source": [
    "### Price distribution between 3 districts"
   ]
  },
  {
   "cell_type": "code",
   "execution_count": 133,
   "metadata": {
    "scrolled": false
   },
   "outputs": [
    {
     "data": {
      "text/plain": [
       "<seaborn.axisgrid.FacetGrid at 0x28a20792c48>"
      ]
     },
     "execution_count": 133,
     "metadata": {},
     "output_type": "execute_result"
    },
    {
     "data": {
      "image/png": "[encoded data removed]",
      "text/plain": [
       "<Figure size 988.275x576 with 1 Axes>"
      ]
     },
     "metadata": {},
     "output_type": "display_data"
    }
   ],
   "source": [
    "# Distribution of appartments by discrict\n",
    "sns.displot(\n",
    "    data=whole_data, kind='kde',\n",
    "    x='Price', hue='District', multiple='stack',\n",
    "    height=8, aspect=1.5)"
   ]
  },
  {
   "cell_type": "markdown",
   "metadata": {},
   "source": [
    "## Baseline with fewer features and not tuned Random Forest Regressor"
   ]
  },
  {
   "cell_type": "code",
   "execution_count": 135,
   "metadata": {},
   "outputs": [
    {
     "name": "stdout",
     "output_type": "stream",
     "text": [
      "MAE of a prediction to validation set is =  344709.49739872495\n",
      "The acuracy of a baseline model is =  86.4034936164196\n"
     ]
    }
   ],
   "source": [
    "baseline_data_test = whole_data.copy()\n",
    "baseline_y = baseline_data_test['Price']\n",
    "\n",
    "# 'Area','RoomFloor','TopFloor' features dont have missing values\n",
    "# so it's a simple way to build baseline model from that features\n",
    "baseline_X = baseline_data_test[['Area', 'RoomFloor', 'TopFloor']]\n",
    "\n",
    "X_train_base, X_val_base, y_train_base, y_val_base = train_test_split(\n",
    "    baseline_X, baseline_y, test_size=0.15, random_state=0)\n",
    "\n",
    "forest_model = RandomForestRegressor(random_state=0)\n",
    "forest_model.fit(X_train_base, y_train_base)\n",
    "forest_pred = forest_model.predict(X_val_base)\n",
    "forest_mae = mae(y_val_base, forest_pred)\n",
    "print('MAE of a prediction to validation set is = ', forest_mae)\n",
    "print('The acuracy of a baseline model is = ',\n",
    "      100 - forest_mae*100/y_val_base.mean())"
   ]
  },
  {
   "cell_type": "markdown",
   "metadata": {},
   "source": [
    "# Prepocessing Data"
   ]
  },
  {
   "cell_type": "code",
   "execution_count": 140,
   "metadata": {},
   "outputs": [],
   "source": [
    "def error_changer(pd_data, col_name, obj1, obj2, cor_len=4):\n",
    "    '''\n",
    "    changing wrong parsed objects if they have some symbols\n",
    "    in common with correct objects, returns changed dataset\n",
    "\n",
    "    pd_data - whole dataset in pd.DataFrame\n",
    "    obj1 - first correct object name\n",
    "    obj2 - second correct object name\n",
    "    col_name - name of a column\n",
    "    cor_len - lenght of symbols witch is enough to\n",
    "    find all slightly wrong parsed objects\n",
    "    '''\n",
    "    cut_obj1 = obj1[0:cor_len]\n",
    "    cut_obj2 = obj2[0:cor_len]\n",
    "\n",
    "    for i in range(0, len(whole_data)):\n",
    "        if whole_data[col_name].isnull().values[i] is True:\n",
    "            if cut_obj1 in whole_data.loc[i, (col_name)]:\n",
    "                whole_data.loc[i, (col_name)] = obj1\n",
    "            elif cut_obj2 in whole_data.loc[i, (col_name)]:\n",
    "                whole_data.loc[i, (col_name)] = obj2\n",
    "\n",
    "    return pd_data"
   ]
  },
  {
   "cell_type": "code",
   "execution_count": 142,
   "metadata": {},
   "outputs": [],
   "source": [
    "# change feature values with error in parsing\n",
    "whole_data = error_changer(whole_data, 'BathroomType',\n",
    "                           'совмещенный', 'раздельный')\n",
    "whole_data = error_changer(whole_data, 'BalconyType',\n",
    "                           'балкон', 'лоджия')\n",
    "whole_data = error_changer(whole_data, 'TypeofBuilding',\n",
    "                           'Монолитный', 'Кирпичный')"
   ]
  },
  {
   "cell_type": "code",
   "execution_count": 144,
   "metadata": {
    "scrolled": true
   },
   "outputs": [
    {
     "name": "stdout",
     "output_type": "stream",
     "text": [
      "Missing data in %:\n",
      " Area               0.0\n",
      "RoomFloor          0.0\n",
      "TopFloor           0.0\n",
      "Price              0.0\n",
      "RoomArea          53.3\n",
      "KitchenArea       50.4\n",
      "BuildDate         22.3\n",
      "BathroomNum       25.7\n",
      "BathroomType      25.7\n",
      "BalconyNum        32.5\n",
      "BalconyType       32.5\n",
      "Repair             9.8\n",
      "TypeofBuilding    41.8\n",
      "TypeofMaterial    80.0\n",
      "Heating           80.5\n",
      "GasSupply         83.1\n",
      "District           0.0\n",
      "dtype: float64\n"
     ]
    }
   ],
   "source": [
    "# take a look at how much missing data we have\n",
    "mis_vals = whole_data.isnull().sum()\n",
    "\n",
    "print('Missing data in %:\\n',\n",
    "      100*round(mis_vals/len(whole_data), 3))"
   ]
  },
  {
   "cell_type": "markdown",
   "metadata": {},
   "source": [
    "## Get rid of 3 least filled features - 'part_data'"
   ]
  },
  {
   "cell_type": "code",
   "execution_count": 147,
   "metadata": {
    "scrolled": false
   },
   "outputs": [
    {
     "data": {
      "text/plain": [
       "Index(['Area', 'RoomFloor', 'TopFloor', 'Price', 'RoomArea', 'KitchenArea',\n",
       "       'BuildDate', 'BathroomNum', 'BalconyNum', 'RoomArea_IsMissing',\n",
       "       'KitchenArea_IsMissing', 'BuildDate_IsMissing', 'BathroomNum_IsMissing',\n",
       "       'BathroomType_IsMissing', 'BalconyNum_IsMissing',\n",
       "       'BalconyType_IsMissing', 'Repair_IsMissing', 'TypeofBuilding_IsMissing',\n",
       "       'x0_ раздельный', 'x0_ раздельных', 'x0_ совмещенный',\n",
       "       'x0_ совмещенный, ', 'x0_ совмещенных', 'x1_ балкон', 'x1_ балкон, ',\n",
       "       'x1_ балкона', 'x1_ лоджии', 'x1_ лоджия', 'x2_Без ремонта',\n",
       "       'x2_Дизайнерский', 'x2_Евроремонт', 'x2_Косметический', 'x3_Блочный',\n",
       "       'x3_Кирпичный', 'x3_Монолитно кирпичный', 'x3_Монолитный',\n",
       "       'x3_Панельный', 'x3_Сталинский', 'x4_central', 'x4_leninski',\n",
       "       'x4_moskovski'],\n",
       "      dtype='object')"
      ]
     },
     "execution_count": 147,
     "metadata": {},
     "output_type": "execute_result"
    }
   ],
   "source": [
    "# copy original data\n",
    "part_data = whole_data.copy()\n",
    "\n",
    "# drop least filled features\n",
    "part_data = part_data.drop([\n",
    "    'TypeofMaterial', 'Heating', 'GasSupply'], axis=1)\n",
    "\n",
    "# create list with 'object' type features\n",
    "obj_types = (part_data.dtypes == 'object')\n",
    "object_cols = list(obj_types[obj_types].index)\n",
    "\n",
    "# adding features to show what was missing\n",
    "cols_with_missing = [col for col in part_data.columns\n",
    "                     if part_data[col].isnull().any()]\n",
    "for col in cols_with_missing:\n",
    "    part_data[col+'_IsMissing'] = part_data[col].isnull()\n",
    "\n",
    "# imputation categorical and non categorical data\n",
    "median_imputer = pd.Series([\n",
    "    part_data[dt].value_counts().index[0]\n",
    "    if part_data[dt].dtype == 'object'\n",
    "    else part_data[dt].median() for dt in part_data],\n",
    "    index=part_data.columns)\n",
    "\n",
    "part_data = part_data.fillna(median_imputer)\n",
    "\n",
    "# set OneHotEncoder\n",
    "oh_encoder = OneHotEncoder(handle_unknown='ignore', sparse=False)\n",
    "oh_cols_ft = pd.DataFrame(oh_encoder.fit_transform(\n",
    "    part_data[object_cols]))\n",
    "\n",
    "# One-hot encoding removed index; put it back\n",
    "oh_cols_ft.index = part_data.index\n",
    "\n",
    "# Set names for encoded features\n",
    "feature_names = oh_encoder.get_feature_names()\n",
    "oh_cols_ft.columns = feature_names\n",
    "\n",
    "# Remove categorical columns (will replace with one-hot encoding)\n",
    "part_data = part_data.drop(object_cols, axis=1)\n",
    "\n",
    "# Add one-hot encoded columns to numerical features\n",
    "part_data = pd.concat([part_data, oh_cols_ft], axis=1)\n",
    "\n",
    "# show final list of columns\n",
    "part_data.columns"
   ]
  },
  {
   "cell_type": "markdown",
   "metadata": {},
   "source": [
    "## Create new 'decade' categorical feature - 'dec_part_data'"
   ]
  },
  {
   "cell_type": "code",
   "execution_count": 151,
   "metadata": {
    "scrolled": true
   },
   "outputs": [
    {
     "data": {
      "text/plain": [
       "Index(['Area', 'RoomFloor', 'TopFloor', 'Price', 'RoomArea', 'KitchenArea',\n",
       "       'BuildDate', 'BathroomNum', 'BalconyNum', 'RoomArea_IsMissing',\n",
       "       'KitchenArea_IsMissing', 'BuildDate_IsMissing', 'BathroomNum_IsMissing',\n",
       "       'BathroomType_IsMissing', 'BalconyNum_IsMissing',\n",
       "       'BalconyType_IsMissing', 'Repair_IsMissing', 'TypeofBuilding_IsMissing',\n",
       "       'x0_ раздельный', 'x0_ раздельных', 'x0_ совмещенный',\n",
       "       'x0_ совмещенный, ', 'x0_ совмещенных', 'x1_ балкон', 'x1_ балкон, ',\n",
       "       'x1_ балкона', 'x1_ лоджии', 'x1_ лоджия', 'x2_Без ремонта',\n",
       "       'x2_Дизайнерский', 'x2_Евроремонт', 'x2_Косметический', 'x3_Блочный',\n",
       "       'x3_Кирпичный', 'x3_Монолитно кирпичный', 'x3_Монолитный',\n",
       "       'x3_Панельный', 'x3_Сталинский', 'x4_central', 'x4_leninski',\n",
       "       'x4_moskovski', 'x0_01-10', 'x0_11-20', 'x0_37-50', 'x0_51-70',\n",
       "       'x0_71-90', 'x0_91-00'],\n",
       "      dtype='object')"
      ]
     },
     "execution_count": 151,
     "metadata": {},
     "output_type": "execute_result"
    }
   ],
   "source": [
    "# copy part data\n",
    "dec_part_data = part_data.copy()\n",
    "\n",
    "# create decade feature with 6 categories\n",
    "dec_part_data['Decade'] = 'empt'\n",
    "for i in range(0, len(dec_part_data['BuildDate'])):\n",
    "    if dec_part_data.loc[i, ('BuildDate')] in range(1937, 1951):\n",
    "        dec_part_data.loc[i, ('Decade')] = '37-50'\n",
    "    elif dec_part_data.loc[i, ('BuildDate')] in range(1951, 1971):\n",
    "        dec_part_data.loc[i, ('Decade')] = '51-70'\n",
    "    elif dec_part_data.loc[i, ('BuildDate')] in range(1971, 1991):\n",
    "        dec_part_data.loc[i, ('Decade')] = '71-90'\n",
    "    elif dec_part_data.loc[i, ('BuildDate')] in range(1991, 2001):\n",
    "        dec_part_data.loc[i, ('Decade')] = '91-00'\n",
    "    elif dec_part_data.loc[i, ('BuildDate')] in range(2001, 2011):\n",
    "        dec_part_data.loc[i, ('Decade')] = '01-10'\n",
    "    elif dec_part_data.loc[i, ('BuildDate')] in range(2011, 2021):\n",
    "        dec_part_data.loc[i, ('Decade')] = '11-20'\n",
    "\n",
    "# set OneHotEncoder\n",
    "oh_encoder = OneHotEncoder(handle_unknown='ignore', sparse=False)\n",
    "oh_cols_ft = pd.DataFrame(oh_encoder.fit_transform(\n",
    "    dec_part_data['Decade'].values.reshape(-1, 1)))\n",
    "\n",
    "# One-hot encoding removed index; put it back\n",
    "oh_cols_ft.index = dec_part_data.index\n",
    "\n",
    "# Set names for encoded features\n",
    "feature_names = oh_encoder.get_feature_names()\n",
    "oh_cols_ft.columns = feature_names\n",
    "\n",
    "# Remove categorical columns (will replace with one-hot encoding)\n",
    "dec_part_data = dec_part_data.drop(['Decade'], axis=1)\n",
    "\n",
    "# Add one-hot encoded columns to numerical features\n",
    "dec_part_data = pd.concat([dec_part_data, oh_cols_ft], axis=1)\n",
    "\n",
    "# show final list of columns\n",
    "dec_part_data.columns"
   ]
  },
  {
   "cell_type": "markdown",
   "metadata": {},
   "source": [
    "## Standard features  - 'whole_data'"
   ]
  },
  {
   "cell_type": "code",
   "execution_count": 154,
   "metadata": {
    "scrolled": true
   },
   "outputs": [
    {
     "data": {
      "text/plain": [
       "Index(['Area', 'RoomFloor', 'TopFloor', 'Price', 'RoomArea', 'KitchenArea',\n",
       "       'BuildDate', 'BathroomNum', 'BalconyNum', 'RoomArea_IsMissing',\n",
       "       'KitchenArea_IsMissing', 'BuildDate_IsMissing', 'BathroomNum_IsMissing',\n",
       "       'BathroomType_IsMissing', 'BalconyNum_IsMissing',\n",
       "       'BalconyType_IsMissing', 'Repair_IsMissing', 'TypeofBuilding_IsMissing',\n",
       "       'TypeofMaterial_IsMissing', 'Heating_IsMissing', 'GasSupply_IsMissing',\n",
       "       'x0_ раздельный', 'x0_ раздельных', 'x0_ совмещенный',\n",
       "       'x0_ совмещенный, ', 'x0_ совмещенных', 'x1_ балкон', 'x1_ балкон, ',\n",
       "       'x1_ балкона', 'x1_ лоджии', 'x1_ лоджия', 'x2_Без ремонта',\n",
       "       'x2_Дизайнерский', 'x2_Евроремонт', 'x2_Косметический', 'x3_Блочный',\n",
       "       'x3_Кирпичный', 'x3_Монолитно кирпичный', 'x3_Монолитный',\n",
       "       'x3_Панельный', 'x3_Сталинский', 'x4_Деревянные', 'x4_Железобетонные',\n",
       "       'x4_Смешанные', 'x5_Автономная котельная',\n",
       "       'x5_Котел/Квартирное отопление', 'x5_Нет', 'x5_Центральное',\n",
       "       'x6_Автономное', 'x6_Центральное', 'x7_central', 'x7_leninski',\n",
       "       'x7_moskovski'],\n",
       "      dtype='object')"
      ]
     },
     "execution_count": 154,
     "metadata": {},
     "output_type": "execute_result"
    }
   ],
   "source": [
    "# create list with object type features\n",
    "obj_types = (whole_data.dtypes == 'object')\n",
    "object_cols = list(obj_types[obj_types].index)\n",
    "\n",
    "# adding features to show what was missing\n",
    "cols_with_missing = [col for col in whole_data.columns\n",
    "                     if whole_data[col].isnull().any()]\n",
    "for col in cols_with_missing:\n",
    "    whole_data[col+'_IsMissing'] = whole_data[col].isnull()\n",
    "\n",
    "# imputation categorical and non categorical data\n",
    "median_imputer = pd.Series([\n",
    "    whole_data[dt].value_counts().index[0]\n",
    "    if whole_data[dt].dtype == 'object'\n",
    "    else whole_data[dt].median() for dt in whole_data],\n",
    "    index=whole_data.columns)\n",
    "\n",
    "whole_data = whole_data.fillna(median_imputer)\n",
    "\n",
    "# set OneHotEncoder\n",
    "oh_encoder = OneHotEncoder(handle_unknown='ignore', sparse=False)\n",
    "oh_cols_ft = pd.DataFrame(\n",
    "    oh_encoder.fit_transform(whole_data[object_cols]))\n",
    "\n",
    "# One-hot encoding removed index; put it back\n",
    "oh_cols_ft.index = whole_data.index\n",
    "\n",
    "# Set names for encoded features\n",
    "feature_names = oh_encoder.get_feature_names()\n",
    "oh_cols_ft.columns = feature_names\n",
    "\n",
    "# Remove categorical columns (will replace with one-hot encoding)\n",
    "whole_data = whole_data.drop(object_cols, axis=1)\n",
    "\n",
    "# Add one-hot encoded columns to numerical features\n",
    "whole_data = pd.concat([whole_data, oh_cols_ft], axis=1)\n",
    "\n",
    "# show final list of columns\n",
    "whole_data.columns"
   ]
  },
  {
   "cell_type": "markdown",
   "metadata": {},
   "source": [
    "## Standard features plus 'decade' - 'all_data'"
   ]
  },
  {
   "cell_type": "code",
   "execution_count": 157,
   "metadata": {
    "scrolled": true
   },
   "outputs": [
    {
     "data": {
      "text/plain": [
       "Index(['Area', 'RoomFloor', 'TopFloor', 'Price', 'RoomArea', 'KitchenArea',\n",
       "       'BuildDate', 'BathroomNum', 'BalconyNum', 'RoomArea_IsMissing',\n",
       "       'KitchenArea_IsMissing', 'BuildDate_IsMissing', 'BathroomNum_IsMissing',\n",
       "       'BathroomType_IsMissing', 'BalconyNum_IsMissing',\n",
       "       'BalconyType_IsMissing', 'Repair_IsMissing', 'TypeofBuilding_IsMissing',\n",
       "       'TypeofMaterial_IsMissing', 'Heating_IsMissing', 'GasSupply_IsMissing',\n",
       "       'x0_ раздельный', 'x0_ раздельных', 'x0_ совмещенный',\n",
       "       'x0_ совмещенный, ', 'x0_ совмещенных', 'x1_ балкон', 'x1_ балкон, ',\n",
       "       'x1_ балкона', 'x1_ лоджии', 'x1_ лоджия', 'x2_Без ремонта',\n",
       "       'x2_Дизайнерский', 'x2_Евроремонт', 'x2_Косметический', 'x3_Блочный',\n",
       "       'x3_Кирпичный', 'x3_Монолитно кирпичный', 'x3_Монолитный',\n",
       "       'x3_Панельный', 'x3_Сталинский', 'x4_Деревянные', 'x4_Железобетонные',\n",
       "       'x4_Смешанные', 'x5_Автономная котельная',\n",
       "       'x5_Котел/Квартирное отопление', 'x5_Нет', 'x5_Центральное',\n",
       "       'x6_Автономное', 'x6_Центральное', 'x7_central', 'x7_leninski',\n",
       "       'x7_moskovski', 'x0_01-10', 'x0_11-20', 'x0_37-50', 'x0_51-70',\n",
       "       'x0_71-90', 'x0_91-00'],\n",
       "      dtype='object')"
      ]
     },
     "execution_count": 157,
     "metadata": {},
     "output_type": "execute_result"
    }
   ],
   "source": [
    "all_data = whole_data.copy()\n",
    "all_data['Decade'] = 'empt'\n",
    "for i in range(0, len(all_data['BuildDate'])):\n",
    "    if all_data.loc[i, ('BuildDate')] in range(1937, 1951):\n",
    "        all_data.loc[i, ('Decade')] = '37-50'\n",
    "    elif all_data.loc[i, ('BuildDate')] in range(1951, 1971):\n",
    "        all_data.loc[i, ('Decade')] = '51-70'\n",
    "    elif all_data.loc[i, ('BuildDate')] in range(1971, 1991):\n",
    "        all_data.loc[i, ('Decade')] = '71-90'\n",
    "    elif all_data.loc[i, ('BuildDate')] in range(1991, 2001):\n",
    "        all_data.loc[i, ('Decade')] = '91-00'\n",
    "    elif all_data.loc[i, ('BuildDate')] in range(2001, 2011):\n",
    "        all_data.loc[i, ('Decade')] = '01-10'\n",
    "    elif all_data.loc[i, ('BuildDate')] in range(2011, 2021):\n",
    "        all_data.loc[i, ('Decade')] = '11-20'\n",
    "\n",
    "# set OneHotEncoder\n",
    "oh_encoder = OneHotEncoder(handle_unknown='ignore', sparse=False)\n",
    "oh_cols_ft = pd.DataFrame(oh_encoder.fit_transform(\n",
    "    all_data['Decade'].values.reshape(-1, 1)))\n",
    "\n",
    "# One-hot encoding removed index; put it back\n",
    "oh_cols_ft.index = all_data.index\n",
    "\n",
    "# Set names for encoded features\n",
    "feature_names = oh_encoder.get_feature_names()\n",
    "oh_cols_ft.columns = feature_names\n",
    "\n",
    "# Remove categorical columns (will replace with one-hot encoding)\n",
    "all_data = all_data.drop(['Decade'], axis=1)\n",
    "\n",
    "# Add one-hot encoded columns to numerical features\n",
    "all_data = pd.concat([all_data, oh_cols_ft], axis=1)\n",
    "\n",
    "# show final list of columns\n",
    "all_data.columns"
   ]
  },
  {
   "cell_type": "markdown",
   "metadata": {},
   "source": [
    "## 'All_data' without 'BuildDate' feature - 'all_data_wt_BD'"
   ]
  },
  {
   "cell_type": "code",
   "execution_count": 159,
   "metadata": {
    "scrolled": false
   },
   "outputs": [
    {
     "data": {
      "text/plain": [
       "Index(['Area', 'RoomFloor', 'TopFloor', 'Price', 'RoomArea', 'KitchenArea',\n",
       "       'BathroomNum', 'BalconyNum', 'RoomArea_IsMissing',\n",
       "       'KitchenArea_IsMissing', 'BuildDate_IsMissing', 'BathroomNum_IsMissing',\n",
       "       'BathroomType_IsMissing', 'BalconyNum_IsMissing',\n",
       "       'BalconyType_IsMissing', 'Repair_IsMissing', 'TypeofBuilding_IsMissing',\n",
       "       'TypeofMaterial_IsMissing', 'Heating_IsMissing', 'GasSupply_IsMissing',\n",
       "       'x0_ раздельный', 'x0_ раздельных', 'x0_ совмещенный',\n",
       "       'x0_ совмещенный, ', 'x0_ совмещенных', 'x1_ балкон', 'x1_ балкон, ',\n",
       "       'x1_ балкона', 'x1_ лоджии', 'x1_ лоджия', 'x2_Без ремонта',\n",
       "       'x2_Дизайнерский', 'x2_Евроремонт', 'x2_Косметический', 'x3_Блочный',\n",
       "       'x3_Кирпичный', 'x3_Монолитно кирпичный', 'x3_Монолитный',\n",
       "       'x3_Панельный', 'x3_Сталинский', 'x4_Деревянные', 'x4_Железобетонные',\n",
       "       'x4_Смешанные', 'x5_Автономная котельная',\n",
       "       'x5_Котел/Квартирное отопление', 'x5_Нет', 'x5_Центральное',\n",
       "       'x6_Автономное', 'x6_Центральное', 'x7_central', 'x7_leninski',\n",
       "       'x7_moskovski', 'x0_01-10', 'x0_11-20', 'x0_37-50', 'x0_51-70',\n",
       "       'x0_71-90', 'x0_91-00'],\n",
       "      dtype='object')"
      ]
     },
     "execution_count": 159,
     "metadata": {},
     "output_type": "execute_result"
    }
   ],
   "source": [
    "all_data_wt_BD = all_data.copy()\n",
    "all_data_wt_BD = all_data_wt_BD.drop('BuildDate', axis=1)\n",
    "all_data_wt_BD.columns"
   ]
  },
  {
   "cell_type": "markdown",
   "metadata": {},
   "source": [
    "#  Random Forest Regressor hyperparameter tuning"
   ]
  },
  {
   "cell_type": "markdown",
   "metadata": {},
   "source": [
    "## whole_data (standard features)"
   ]
  },
  {
   "cell_type": "code",
   "execution_count": 161,
   "metadata": {},
   "outputs": [],
   "source": [
    "y = whole_data.Price\n",
    "X = whole_data.drop(['Price'], axis=1)\n",
    "\n",
    "# divide data into train and test groups\n",
    "# then divide train into train and validation groups\n",
    "train_X_wd, test_X_wd, train_y_wd, test_y_wd = train_test_split(\n",
    "    X, y, test_size=0.15, random_state=0)\n",
    "train_X, val_X, train_y, val_y = train_test_split(\n",
    "    train_X_wd, train_y_wd, test_size=0.177, random_state=0)"
   ]
  },
  {
   "cell_type": "markdown",
   "metadata": {},
   "source": [
    "### Randomized search CV is used only once because of a long run time\n",
    "### and results let us get all needed hyperparameters besides n_estimatiors"
   ]
  },
  {
   "cell_type": "code",
   "execution_count": null,
   "metadata": {},
   "outputs": [],
   "source": [
    "# Number of trees in random forest\n",
    "n_estimators = [int(x) for x in np.linspace(200, 2000, 10)]\n",
    "\n",
    "# Number of features to consider at every split\n",
    "max_features = ['auto', 'sqrt']\n",
    "\n",
    "# Maximum number of levels in tree\n",
    "max_depth = [int(x) for x in np.linspace(10, 110, 11)]\n",
    "max_depth.append(None)\n",
    "\n",
    "# Minimum number of samples required to split a node\n",
    "min_samples_split = [2, 5, 10]\n",
    "\n",
    "# Minimum number of samples required at each leaf node\n",
    "min_samples_leaf = [1, 2, 4]\n",
    "\n",
    "# Method of selecting samples for training each tree\n",
    "bootstrap = [True, False]\n",
    "\n",
    "# Create the random grid\n",
    "random_grid = {'n_estimators': n_estimators,\n",
    "               'max_features': max_features,\n",
    "               'max_depth': max_depth,\n",
    "               'min_samples_split': min_samples_split,\n",
    "               'min_samples_leaf': min_samples_leaf,\n",
    "               'bootstrap': bootstrap}\n",
    "\n",
    "# Use the random grid to search for best hyperparameters\n",
    "# First create the base model to tune\n",
    "rf = RandomForestRegressor()\n",
    "\n",
    "# Random search of parameters, using 3 fold cross validation, \n",
    "# search across 200 different combinations, and use all available cores\n",
    "rf_random = RandomizedSearchCV(estimator=rf, param_distributions=random_grid,\n",
    "                               n_iter=200, cv=3, verbose=3, random_state=0,\n",
    "                               n_jobs=-1)\n",
    "\n",
    "# Fit the random search model\n",
    "rf_random.fit(train_X, train_y)"
   ]
  },
  {
   "cell_type": "code",
   "execution_count": 24,
   "metadata": {},
   "outputs": [
    {
     "data": {
      "text/plain": [
       "{'n_estimators': 400,\n",
       " 'min_samples_split': 2,\n",
       " 'min_samples_leaf': 1,\n",
       " 'max_features': 'sqrt',\n",
       " 'max_depth': None,\n",
       " 'bootstrap': False}"
      ]
     },
     "execution_count": 24,
     "metadata": {},
     "output_type": "execute_result"
    }
   ],
   "source": [
    "rf_random.best_params_"
   ]
  },
  {
   "cell_type": "markdown",
   "metadata": {},
   "source": [
    "### For n_estimators hyperparameter tuning its more effective to use Grid Search CV"
   ]
  },
  {
   "cell_type": "code",
   "execution_count": 78,
   "metadata": {
    "scrolled": true
   },
   "outputs": [
    {
     "name": "stdout",
     "output_type": "stream",
     "text": [
      "Fitting 5 folds for each of 46 candidates, totalling 230 fits\n"
     ]
    },
    {
     "name": "stderr",
     "output_type": "stream",
     "text": [
      "[Parallel(n_jobs=-1)]: Using backend LokyBackend with 4 concurrent workers.\n",
      "[Parallel(n_jobs=-1)]: Done  24 tasks      | elapsed:    4.9s\n",
      "[Parallel(n_jobs=-1)]: Done 120 tasks      | elapsed:   45.6s\n",
      "[Parallel(n_jobs=-1)]: Done 230 out of 230 | elapsed:  2.3min finished\n"
     ]
    },
    {
     "data": {
      "text/plain": [
       "GridSearchCV(cv=5, error_score=nan,\n",
       "             estimator=RandomForestRegressor(bootstrap=True, ccp_alpha=0.0,\n",
       "                                             criterion='mse', max_depth=None,\n",
       "                                             max_features='auto',\n",
       "                                             max_leaf_nodes=None,\n",
       "                                             max_samples=None,\n",
       "                                             min_impurity_decrease=0.0,\n",
       "                                             min_impurity_split=None,\n",
       "                                             min_samples_leaf=1,\n",
       "                                             min_samples_split=2,\n",
       "                                             min_weight_fraction_leaf=0.0,\n",
       "                                             n_estimators=100, n_jobs=None,\n",
       "                                             oob_score=False, rand...\n",
       "             iid='deprecated', n_jobs=-1,\n",
       "             param_grid={'bootstrap': [False], 'max_features': ['sqrt'],\n",
       "                         'min_samples_leaf': [1], 'min_samples_split': [2],\n",
       "                         'n_estimators': [100, 120, 140, 160, 180, 200, 220,\n",
       "                                          240, 260, 280, 300, 320, 340, 360,\n",
       "                                          380, 400, 420, 440, 460, 480, 500,\n",
       "                                          520, 540, 560, 580, 600, 620, 640,\n",
       "                                          660, 680, ...]},\n",
       "             pre_dispatch='2*n_jobs', refit=True, return_train_score=False,\n",
       "             scoring=None, verbose=3)"
      ]
     },
     "execution_count": 78,
     "metadata": {},
     "output_type": "execute_result"
    }
   ],
   "source": [
    "# Create the parameter grid based on the results of random search \n",
    "n_estimators = [int(x) for x in np.linspace(100, 1000, 46)]\n",
    "param_grid = {\n",
    "    'bootstrap': [False],\n",
    "    'max_features': ['sqrt'],\n",
    "    'min_samples_leaf': [1],\n",
    "    'min_samples_split': [2],\n",
    "    'n_estimators': n_estimators\n",
    "}\n",
    "\n",
    "# Create a based model\n",
    "rf = RandomForestRegressor(random_state=0)\n",
    "\n",
    "# Instantiate the grid search model\n",
    "grid_search = GridSearchCV(estimator=rf, param_grid=param_grid, \n",
    "                          cv=5, n_jobs=-1, verbose=3)\n",
    "\n",
    "# Fit the grid search to the data\n",
    "grid_search.fit(train_X, train_y)"
   ]
  },
  {
   "cell_type": "code",
   "execution_count": 79,
   "metadata": {},
   "outputs": [
    {
     "data": {
      "text/plain": [
       "{'bootstrap': False,\n",
       " 'max_features': 'sqrt',\n",
       " 'min_samples_leaf': 1,\n",
       " 'min_samples_split': 2,\n",
       " 'n_estimators': 820}"
      ]
     },
     "execution_count": 79,
     "metadata": {},
     "output_type": "execute_result"
    }
   ],
   "source": [
    "grid_search.best_params_"
   ]
  },
  {
   "cell_type": "code",
   "execution_count": 163,
   "metadata": {},
   "outputs": [
    {
     "name": "stdout",
     "output_type": "stream",
     "text": [
      "MAE of a prediction to validation set is =  259536.20340537163\n",
      "The acuracy of a model with standard features is =  89.74388385745743\n"
     ]
    }
   ],
   "source": [
    "best_estimator_wd = grid_search.best_estimator_\n",
    "forest_model = RandomForestRegressor(random_state=0)\n",
    "forest_model.set_params(**grid_search.best_params_)\n",
    "forest_model.fit(train_X, train_y)\n",
    "forest_pred = forest_model.predict(val_X)\n",
    "forest_mae = mae(val_y, forest_pred)\n",
    "print('MAE of a prediction to validation set is = ', forest_mae)\n",
    "print('The acuracy of a model with standard features is = ',\n",
    "      100 - forest_mae*100/val_y.mean())"
   ]
  },
  {
   "cell_type": "markdown",
   "metadata": {},
   "source": [
    "## part_data (data without 3 most empty features)"
   ]
  },
  {
   "cell_type": "code",
   "execution_count": 81,
   "metadata": {},
   "outputs": [],
   "source": [
    "y = part_data.Price\n",
    "X = part_data.drop(['Price'], axis=1)\n",
    "\n",
    "# divide data into train and test groups\n",
    "# then divide train into train and validation groups\n",
    "train_X_pd, test_X_pd, train_y_pd, test_y_pd = train_test_split(\n",
    "    X, y, test_size=0.15, random_state=0)\n",
    "train_X, val_X, train_y, val_y = train_test_split(\n",
    "    train_X_pd, train_y_pd, test_size=0.177, random_state=0)"
   ]
  },
  {
   "cell_type": "code",
   "execution_count": 82,
   "metadata": {
    "scrolled": true
   },
   "outputs": [
    {
     "name": "stdout",
     "output_type": "stream",
     "text": [
      "Fitting 5 folds for each of 46 candidates, totalling 230 fits\n"
     ]
    },
    {
     "name": "stderr",
     "output_type": "stream",
     "text": [
      "[Parallel(n_jobs=-1)]: Using backend LokyBackend with 4 concurrent workers.\n",
      "[Parallel(n_jobs=-1)]: Done  24 tasks      | elapsed:    3.5s\n",
      "[Parallel(n_jobs=-1)]: Done 120 tasks      | elapsed:   45.9s\n",
      "[Parallel(n_jobs=-1)]: Done 230 out of 230 | elapsed:  2.3min finished\n"
     ]
    },
    {
     "data": {
      "text/plain": [
       "GridSearchCV(cv=5, error_score=nan,\n",
       "             estimator=RandomForestRegressor(bootstrap=True, ccp_alpha=0.0,\n",
       "                                             criterion='mse', max_depth=None,\n",
       "                                             max_features='auto',\n",
       "                                             max_leaf_nodes=None,\n",
       "                                             max_samples=None,\n",
       "                                             min_impurity_decrease=0.0,\n",
       "                                             min_impurity_split=None,\n",
       "                                             min_samples_leaf=1,\n",
       "                                             min_samples_split=2,\n",
       "                                             min_weight_fraction_leaf=0.0,\n",
       "                                             n_estimators=100, n_jobs=None,\n",
       "                                             oob_score=False, rand...\n",
       "             iid='deprecated', n_jobs=-1,\n",
       "             param_grid={'bootstrap': [False], 'max_features': ['sqrt'],\n",
       "                         'min_samples_leaf': [1], 'min_samples_split': [2],\n",
       "                         'n_estimators': [100, 120, 140, 160, 180, 200, 220,\n",
       "                                          240, 260, 280, 300, 320, 340, 360,\n",
       "                                          380, 400, 420, 440, 460, 480, 500,\n",
       "                                          520, 540, 560, 580, 600, 620, 640,\n",
       "                                          660, 680, ...]},\n",
       "             pre_dispatch='2*n_jobs', refit=True, return_train_score=False,\n",
       "             scoring=None, verbose=3)"
      ]
     },
     "execution_count": 82,
     "metadata": {},
     "output_type": "execute_result"
    }
   ],
   "source": [
    "# Create the parameter grid based on the results of random search \n",
    "param_grid = {\n",
    "    'bootstrap': [False],\n",
    "    'max_features': ['sqrt'],\n",
    "    'min_samples_leaf': [1],\n",
    "    'min_samples_split': [2],\n",
    "    'n_estimators': [int(x) for x in np.linspace(100, 1000, 46)]\n",
    "}\n",
    "\n",
    "# Create a based model\n",
    "rf = RandomForestRegressor(random_state=0)\n",
    "\n",
    "# Instantiate the grid search model\n",
    "grid_search = GridSearchCV(estimator=rf, param_grid=param_grid, \n",
    "                          cv=5, n_jobs=-1, verbose=3)\n",
    "\n",
    "# Fit the grid search to the data\n",
    "grid_search.fit(train_X, train_y)"
   ]
  },
  {
   "cell_type": "code",
   "execution_count": 83,
   "metadata": {},
   "outputs": [
    {
     "data": {
      "text/plain": [
       "{'bootstrap': False,\n",
       " 'max_features': 'sqrt',\n",
       " 'min_samples_leaf': 1,\n",
       " 'min_samples_split': 2,\n",
       " 'n_estimators': 660}"
      ]
     },
     "execution_count": 83,
     "metadata": {},
     "output_type": "execute_result"
    }
   ],
   "source": [
    "grid_search.best_params_"
   ]
  },
  {
   "cell_type": "code",
   "execution_count": 164,
   "metadata": {},
   "outputs": [
    {
     "name": "stdout",
     "output_type": "stream",
     "text": [
      "MAE of a prediction to validation set is =  259536.20340537163\n",
      "The acuracy of a model without 3 most empty features is =  89.74388385745743\n"
     ]
    }
   ],
   "source": [
    "best_estimator_pd = grid_search.best_estimator_\n",
    "forest_model = RandomForestRegressor(random_state=0)\n",
    "forest_model.set_params(**grid_search.best_params_)\n",
    "forest_model.fit(train_X, train_y)\n",
    "forest_pred = forest_model.predict(val_X)\n",
    "forest_mae = mae(val_y, forest_pred)\n",
    "print('MAE of a prediction to validation set is = ', forest_mae)\n",
    "print('The acuracy of a model without 3 most empty features is = ',\n",
    "      100 - forest_mae*100/val_y.mean())"
   ]
  },
  {
   "cell_type": "markdown",
   "metadata": {},
   "source": [
    "## dec_part_data (new 'decade' feature with 3 most empty features out of data)"
   ]
  },
  {
   "cell_type": "code",
   "execution_count": 85,
   "metadata": {},
   "outputs": [],
   "source": [
    "y = dec_part_data.Price\n",
    "X = dec_part_data.drop(['Price'], axis=1)\n",
    "\n",
    "# divide data into train and test groups\n",
    "# then divide train into train and validation groups\n",
    "train_X_dpd, test_X_dpd, train_y_dpd, test_y_dpd = train_test_split(\n",
    "    X, y, test_size=0.15, random_state=0)\n",
    "train_X, val_X, train_y, val_y = train_test_split(\n",
    "    train_X_dpd, train_y_dpd, test_size=0.177, random_state=0)"
   ]
  },
  {
   "cell_type": "code",
   "execution_count": 86,
   "metadata": {
    "scrolled": true
   },
   "outputs": [
    {
     "name": "stdout",
     "output_type": "stream",
     "text": [
      "Fitting 5 folds for each of 46 candidates, totalling 230 fits\n"
     ]
    },
    {
     "name": "stderr",
     "output_type": "stream",
     "text": [
      "[Parallel(n_jobs=-1)]: Using backend LokyBackend with 4 concurrent workers.\n",
      "[Parallel(n_jobs=-1)]: Done  24 tasks      | elapsed:    3.7s\n",
      "[Parallel(n_jobs=-1)]: Done 120 tasks      | elapsed:   42.2s\n",
      "[Parallel(n_jobs=-1)]: Done 230 out of 230 | elapsed:  2.2min finished\n"
     ]
    },
    {
     "data": {
      "text/plain": [
       "GridSearchCV(cv=5, error_score=nan,\n",
       "             estimator=RandomForestRegressor(bootstrap=True, ccp_alpha=0.0,\n",
       "                                             criterion='mse', max_depth=None,\n",
       "                                             max_features='auto',\n",
       "                                             max_leaf_nodes=None,\n",
       "                                             max_samples=None,\n",
       "                                             min_impurity_decrease=0.0,\n",
       "                                             min_impurity_split=None,\n",
       "                                             min_samples_leaf=1,\n",
       "                                             min_samples_split=2,\n",
       "                                             min_weight_fraction_leaf=0.0,\n",
       "                                             n_estimators=100, n_jobs=None,\n",
       "                                             oob_score=False, rand...\n",
       "             iid='deprecated', n_jobs=-1,\n",
       "             param_grid={'bootstrap': [False], 'max_features': ['sqrt'],\n",
       "                         'min_samples_leaf': [1], 'min_samples_split': [2],\n",
       "                         'n_estimators': [100, 120, 140, 160, 180, 200, 220,\n",
       "                                          240, 260, 280, 300, 320, 340, 360,\n",
       "                                          380, 400, 420, 440, 460, 480, 500,\n",
       "                                          520, 540, 560, 580, 600, 620, 640,\n",
       "                                          660, 680, ...]},\n",
       "             pre_dispatch='2*n_jobs', refit=True, return_train_score=False,\n",
       "             scoring=None, verbose=3)"
      ]
     },
     "execution_count": 86,
     "metadata": {},
     "output_type": "execute_result"
    }
   ],
   "source": [
    "# Create the parameter grid based on the results of random search \n",
    "param_grid = {\n",
    "    'bootstrap': [False],\n",
    "    'max_features': ['sqrt'],\n",
    "    'min_samples_leaf': [1],\n",
    "    'min_samples_split': [2],\n",
    "    'n_estimators': [int(x) for x in np.linspace(100, 1000, 46)]\n",
    "}\n",
    "\n",
    "# Create a based model\n",
    "rf = RandomForestRegressor(random_state=0)\n",
    "\n",
    "# Instantiate the grid search model\n",
    "grid_search = GridSearchCV(estimator=rf, param_grid=param_grid, \n",
    "                          cv=5, n_jobs=-1, verbose=3)\n",
    "\n",
    "# Fit the grid search to the data\n",
    "grid_search.fit(train_X, train_y)"
   ]
  },
  {
   "cell_type": "code",
   "execution_count": 87,
   "metadata": {},
   "outputs": [
    {
     "data": {
      "text/plain": [
       "{'bootstrap': False,\n",
       " 'max_features': 'sqrt',\n",
       " 'min_samples_leaf': 1,\n",
       " 'min_samples_split': 2,\n",
       " 'n_estimators': 660}"
      ]
     },
     "execution_count": 87,
     "metadata": {},
     "output_type": "execute_result"
    }
   ],
   "source": [
    "grid_search.best_params_"
   ]
  },
  {
   "cell_type": "code",
   "execution_count": 88,
   "metadata": {},
   "outputs": [
    {
     "name": "stdout",
     "output_type": "stream",
     "text": [
      "MAE of a prediction to validation set is =  258384.13853817826\n",
      "The acuracy of a model with new \"decade\" features is =  89.78941011131585\n"
     ]
    }
   ],
   "source": [
    "best_estimator_dpd = grid_search.best_estimator_\n",
    "forest_model = RandomForestRegressor(random_state=0)\n",
    "forest_model.set_params(**grid_search.best_params_)\n",
    "forest_model.fit(train_X, train_y)\n",
    "forest_pred = forest_model.predict(val_X)\n",
    "forest_mae = mae(val_y, forest_pred)\n",
    "print('MAE of a prediction to validation set is = ', forest_mae)\n",
    "print('The acuracy of a model with new \"decade\" features is = ',\n",
    "      100 - forest_mae*100/val_y.mean())"
   ]
  },
  {
   "cell_type": "markdown",
   "metadata": {},
   "source": [
    "## all_data (all features included)"
   ]
  },
  {
   "cell_type": "code",
   "execution_count": 89,
   "metadata": {},
   "outputs": [],
   "source": [
    "y = all_data.Price\n",
    "X = all_data.drop(['Price'], axis=1)\n",
    "\n",
    "# divide data into train and test groups\n",
    "# then divide train into train and validation groups\n",
    "train_X_ad, test_X_ad, train_y_ad, test_y_ad = train_test_split(\n",
    "    X, y, test_size=0.15, random_state=0)\n",
    "train_X, val_X, train_y, val_y = train_test_split(\n",
    "    train_X_ad, train_y_ad, test_size=0.177, random_state=0)"
   ]
  },
  {
   "cell_type": "code",
   "execution_count": 90,
   "metadata": {
    "scrolled": true
   },
   "outputs": [
    {
     "name": "stdout",
     "output_type": "stream",
     "text": [
      "Fitting 5 folds for each of 46 candidates, totalling 230 fits\n"
     ]
    },
    {
     "name": "stderr",
     "output_type": "stream",
     "text": [
      "[Parallel(n_jobs=-1)]: Using backend LokyBackend with 4 concurrent workers.\n",
      "[Parallel(n_jobs=-1)]: Done  24 tasks      | elapsed:    3.5s\n",
      "[Parallel(n_jobs=-1)]: Done 120 tasks      | elapsed:   44.1s\n",
      "[Parallel(n_jobs=-1)]: Done 230 out of 230 | elapsed:  2.4min finished\n"
     ]
    },
    {
     "data": {
      "text/plain": [
       "GridSearchCV(cv=5, error_score=nan,\n",
       "             estimator=RandomForestRegressor(bootstrap=True, ccp_alpha=0.0,\n",
       "                                             criterion='mse', max_depth=None,\n",
       "                                             max_features='auto',\n",
       "                                             max_leaf_nodes=None,\n",
       "                                             max_samples=None,\n",
       "                                             min_impurity_decrease=0.0,\n",
       "                                             min_impurity_split=None,\n",
       "                                             min_samples_leaf=1,\n",
       "                                             min_samples_split=2,\n",
       "                                             min_weight_fraction_leaf=0.0,\n",
       "                                             n_estimators=100, n_jobs=None,\n",
       "                                             oob_score=False, rand...\n",
       "             iid='deprecated', n_jobs=-1,\n",
       "             param_grid={'bootstrap': [False], 'max_features': ['sqrt'],\n",
       "                         'min_samples_leaf': [1], 'min_samples_split': [2],\n",
       "                         'n_estimators': [100, 120, 140, 160, 180, 200, 220,\n",
       "                                          240, 260, 280, 300, 320, 340, 360,\n",
       "                                          380, 400, 420, 440, 460, 480, 500,\n",
       "                                          520, 540, 560, 580, 600, 620, 640,\n",
       "                                          660, 680, ...]},\n",
       "             pre_dispatch='2*n_jobs', refit=True, return_train_score=False,\n",
       "             scoring=None, verbose=3)"
      ]
     },
     "execution_count": 90,
     "metadata": {},
     "output_type": "execute_result"
    }
   ],
   "source": [
    "# Create the parameter grid based on the results of random search \n",
    "param_grid = {\n",
    "    'bootstrap': [False],\n",
    "    'max_features': ['sqrt'],\n",
    "    'min_samples_leaf': [1],\n",
    "    'min_samples_split': [2],\n",
    "    'n_estimators': [int(x) for x in np.linspace(100, 1000, 46)]\n",
    "}\n",
    "\n",
    "# Create a based model\n",
    "rf = RandomForestRegressor(random_state=0)\n",
    "\n",
    "# Instantiate the grid search model\n",
    "grid_search = GridSearchCV(estimator=rf, param_grid=param_grid, \n",
    "                          cv=5, n_jobs=-1, verbose=3)\n",
    "\n",
    "# Fit the grid search to the data\n",
    "grid_search.fit(train_X, train_y)"
   ]
  },
  {
   "cell_type": "code",
   "execution_count": 91,
   "metadata": {
    "scrolled": true
   },
   "outputs": [
    {
     "data": {
      "text/plain": [
       "{'bootstrap': False,\n",
       " 'max_features': 'sqrt',\n",
       " 'min_samples_leaf': 1,\n",
       " 'min_samples_split': 2,\n",
       " 'n_estimators': 180}"
      ]
     },
     "execution_count": 91,
     "metadata": {},
     "output_type": "execute_result"
    }
   ],
   "source": [
    "grid_search.best_params_"
   ]
  },
  {
   "cell_type": "code",
   "execution_count": 92,
   "metadata": {},
   "outputs": [
    {
     "name": "stdout",
     "output_type": "stream",
     "text": [
      "MAE of a prediction to validation set is =  259553.9768524758\n",
      "The acuracy of a model with all features is =  89.74318150250517\n"
     ]
    }
   ],
   "source": [
    "best_estimator_ad = grid_search.best_estimator_\n",
    "forest_model = RandomForestRegressor(random_state=0)\n",
    "forest_model.set_params(**grid_search.best_params_)\n",
    "forest_model.fit(train_X, train_y)\n",
    "forest_pred = forest_model.predict(val_X)\n",
    "forest_mae = mae(val_y, forest_pred)\n",
    "print('MAE of a prediction to validation set is = ', forest_mae)\n",
    "print('The acuracy of a model with all features is = ',\n",
    "      100 - forest_mae*100/val_y.mean())"
   ]
  },
  {
   "cell_type": "markdown",
   "metadata": {},
   "source": [
    "## all_data_wt_BD (all features without 'BuildDate')"
   ]
  },
  {
   "cell_type": "code",
   "execution_count": 93,
   "metadata": {},
   "outputs": [],
   "source": [
    "y = all_data_wt_BD.Price\n",
    "X = all_data_wt_BD.drop(['Price'], axis=1)\n",
    "\n",
    "# divide data into train and test groups\n",
    "# then divide train into train and validation groups\n",
    "train_X_adwt, test_X_adwt, train_y_adwt, test_y_adwt = train_test_split(\n",
    "    X, y, test_size=0.15, random_state=0)\n",
    "train_X, val_X, train_y, val_y = train_test_split(\n",
    "    train_X_adwt, train_y_adwt, test_size=0.177, random_state=0)"
   ]
  },
  {
   "cell_type": "code",
   "execution_count": 94,
   "metadata": {
    "scrolled": true
   },
   "outputs": [
    {
     "name": "stdout",
     "output_type": "stream",
     "text": [
      "Fitting 5 folds for each of 46 candidates, totalling 230 fits\n"
     ]
    },
    {
     "name": "stderr",
     "output_type": "stream",
     "text": [
      "[Parallel(n_jobs=-1)]: Using backend LokyBackend with 4 concurrent workers.\n",
      "[Parallel(n_jobs=-1)]: Done  24 tasks      | elapsed:    3.7s\n",
      "[Parallel(n_jobs=-1)]: Done 120 tasks      | elapsed:   43.1s\n",
      "[Parallel(n_jobs=-1)]: Done 230 out of 230 | elapsed:  2.3min finished\n"
     ]
    },
    {
     "data": {
      "text/plain": [
       "GridSearchCV(cv=5, error_score=nan,\n",
       "             estimator=RandomForestRegressor(bootstrap=True, ccp_alpha=0.0,\n",
       "                                             criterion='mse', max_depth=None,\n",
       "                                             max_features='auto',\n",
       "                                             max_leaf_nodes=None,\n",
       "                                             max_samples=None,\n",
       "                                             min_impurity_decrease=0.0,\n",
       "                                             min_impurity_split=None,\n",
       "                                             min_samples_leaf=1,\n",
       "                                             min_samples_split=2,\n",
       "                                             min_weight_fraction_leaf=0.0,\n",
       "                                             n_estimators=100, n_jobs=None,\n",
       "                                             oob_score=False, rand...\n",
       "             iid='deprecated', n_jobs=-1,\n",
       "             param_grid={'bootstrap': [False], 'max_features': ['sqrt'],\n",
       "                         'min_samples_leaf': [1], 'min_samples_split': [2],\n",
       "                         'n_estimators': [100, 120, 140, 160, 180, 200, 220,\n",
       "                                          240, 260, 280, 300, 320, 340, 360,\n",
       "                                          380, 400, 420, 440, 460, 480, 500,\n",
       "                                          520, 540, 560, 580, 600, 620, 640,\n",
       "                                          660, 680, ...]},\n",
       "             pre_dispatch='2*n_jobs', refit=True, return_train_score=False,\n",
       "             scoring=None, verbose=3)"
      ]
     },
     "execution_count": 94,
     "metadata": {},
     "output_type": "execute_result"
    }
   ],
   "source": [
    "# Create the parameter grid based on the results of random search \n",
    "param_grid = {\n",
    "    'bootstrap': [False],\n",
    "    'max_features': ['sqrt'],\n",
    "    'min_samples_leaf': [1],\n",
    "    'min_samples_split': [2],\n",
    "    'n_estimators': [int(x) for x in np.linspace(100, 1000, 46)]\n",
    "}\n",
    "\n",
    "# Create a based model\n",
    "rf = RandomForestRegressor(random_state=0)\n",
    "\n",
    "# Instantiate the grid search model\n",
    "grid_search = GridSearchCV(estimator=rf, param_grid=param_grid, \n",
    "                          cv=5, n_jobs=-1, verbose=3)\n",
    "\n",
    "# Fit the grid search to the data\n",
    "grid_search.fit(train_X, train_y)"
   ]
  },
  {
   "cell_type": "code",
   "execution_count": 95,
   "metadata": {
    "scrolled": true
   },
   "outputs": [
    {
     "data": {
      "text/plain": [
       "{'bootstrap': False,\n",
       " 'max_features': 'sqrt',\n",
       " 'min_samples_leaf': 1,\n",
       " 'min_samples_split': 2,\n",
       " 'n_estimators': 840}"
      ]
     },
     "execution_count": 95,
     "metadata": {},
     "output_type": "execute_result"
    }
   ],
   "source": [
    "grid_search.best_params_"
   ]
  },
  {
   "cell_type": "code",
   "execution_count": 96,
   "metadata": {},
   "outputs": [
    {
     "name": "stdout",
     "output_type": "stream",
     "text": [
      "MAE of a prediction to validation set is =  261610.5659219506\n",
      "The acuracy of a model without \"BuildDate\" features is =  89.66191108212736\n"
     ]
    }
   ],
   "source": [
    "best_estimator_adwt = grid_search.best_estimator_\n",
    "forest_model = RandomForestRegressor(random_state=0)\n",
    "forest_model.set_params(**grid_search.best_params_)\n",
    "forest_model.fit(train_X, train_y)\n",
    "forest_pred = forest_model.predict(val_X)\n",
    "forest_mae = mae(val_y, forest_pred)\n",
    "print('MAE of a prediction to validation set is = ', forest_mae)\n",
    "print('The acuracy of a model without \"BuildDate\" features is = ',\n",
    "      100 - forest_mae*100/val_y.mean())"
   ]
  },
  {
   "cell_type": "markdown",
   "metadata": {},
   "source": [
    "# Comparison"
   ]
  },
  {
   "cell_type": "code",
   "execution_count": 166,
   "metadata": {},
   "outputs": [],
   "source": [
    "def evaluate(model, test_X, test_y):\n",
    "    model.random_state = 0\n",
    "    predictions = model.predict(test_X)\n",
    "    mae_error = mae(test_y, predictions)\n",
    "    accuracy = 100 - 100 * mae_error / test_y.mean()\n",
    "    print('Model Performance')\n",
    "    print('Mean Absolute Error: {:0.4f} rubles.'.format(mae_error))\n",
    "    print('Accuracy = {:0.2f}%.'.format(accuracy))\n",
    "\n",
    "    return accuracy"
   ]
  },
  {
   "cell_type": "markdown",
   "metadata": {},
   "source": [
    "### Baseline"
   ]
  },
  {
   "cell_type": "code",
   "execution_count": 167,
   "metadata": {},
   "outputs": [
    {
     "name": "stdout",
     "output_type": "stream",
     "text": [
      "Model Performance\n",
      "Mean Absolute Error: 344709.4974 rubles.\n",
      "Accuracy = 86.40%.\n"
     ]
    }
   ],
   "source": [
    "forest_model = RandomForestRegressor(random_state=0)\n",
    "forest_model.fit(X_train_base, y_train_base)\n",
    "forest_pred = forest_model.predict(X_val_base)\n",
    "mae_error = mae(y_val_base, forest_pred)\n",
    "accuracy = 100 - 100 * mae_error / y_val_base.mean()\n",
    "print('Model Performance')\n",
    "print('Mean Absolute Error: {:0.4f} rubles.'.format(np.mean(mae_error)))\n",
    "print('Accuracy = {:0.2f}%.'.format(accuracy))\n",
    "baseline_results = {'model': 'baseline', 'time': np.nan, 'n_trees': np.nan,\n",
    "                    'mae_error': mae_error, 'accuracy': accuracy,\n",
    "                    'n_features': 3}"
   ]
  },
  {
   "cell_type": "markdown",
   "metadata": {},
   "source": [
    "### whole_data"
   ]
  },
  {
   "cell_type": "code",
   "execution_count": 99,
   "metadata": {},
   "outputs": [
    {
     "name": "stdout",
     "output_type": "stream",
     "text": [
      "Model Performance\n",
      "Mean Absolute Error: 255534.4801 rubles.\n",
      "Accuracy = 89.92%.\n"
     ]
    }
   ],
   "source": [
    "wd_accuracy = evaluate(best_estimator_wd, test_X_wd, test_y_wd)"
   ]
  },
  {
   "cell_type": "markdown",
   "metadata": {},
   "source": [
    "### part_data"
   ]
  },
  {
   "cell_type": "code",
   "execution_count": 100,
   "metadata": {},
   "outputs": [
    {
     "name": "stdout",
     "output_type": "stream",
     "text": [
      "Model Performance\n",
      "Mean Absolute Error: 257343.1953 rubles.\n",
      "Accuracy = 89.85%.\n"
     ]
    }
   ],
   "source": [
    "pd_accuracy = evaluate(best_estimator_pd, test_X_pd, test_y_pd)"
   ]
  },
  {
   "cell_type": "markdown",
   "metadata": {},
   "source": [
    "### dec_part_data"
   ]
  },
  {
   "cell_type": "code",
   "execution_count": 101,
   "metadata": {},
   "outputs": [
    {
     "name": "stdout",
     "output_type": "stream",
     "text": [
      "Model Performance\n",
      "Mean Absolute Error: 253416.9161 rubles.\n",
      "Accuracy = 90.00%.\n"
     ]
    }
   ],
   "source": [
    "dpd_accuracy = evaluate(best_estimator_dpd, test_X_dpd, test_y_dpd)"
   ]
  },
  {
   "cell_type": "markdown",
   "metadata": {},
   "source": [
    "### all_data"
   ]
  },
  {
   "cell_type": "code",
   "execution_count": 102,
   "metadata": {},
   "outputs": [
    {
     "name": "stdout",
     "output_type": "stream",
     "text": [
      "Model Performance\n",
      "Mean Absolute Error: 257126.3027 rubles.\n",
      "Accuracy = 89.86%.\n"
     ]
    }
   ],
   "source": [
    "ad_accuracy = evaluate(best_estimator_ad, test_X_ad, test_y_ad)"
   ]
  },
  {
   "cell_type": "markdown",
   "metadata": {},
   "source": [
    "### all_data_wt_BD"
   ]
  },
  {
   "cell_type": "code",
   "execution_count": 103,
   "metadata": {},
   "outputs": [
    {
     "name": "stdout",
     "output_type": "stream",
     "text": [
      "Model Performance\n",
      "Mean Absolute Error: 257928.6159 rubles.\n",
      "Accuracy = 89.83%.\n"
     ]
    }
   ],
   "source": [
    "adwt_accuracy = evaluate(best_estimator_adwt, test_X_adwt, test_y_adwt)"
   ]
  },
  {
   "cell_type": "code",
   "execution_count": 104,
   "metadata": {},
   "outputs": [],
   "source": [
    "# Time used for evaluating model run times\n",
    "import time"
   ]
  },
  {
   "cell_type": "code",
   "execution_count": 169,
   "metadata": {},
   "outputs": [
    {
     "name": "stderr",
     "output_type": "stream",
     "text": [
      "2:1: E302 expected 2 blank lines, found 0\n"
     ]
    }
   ],
   "source": [
    "# Evaluate run time and prediction accuracy\n",
    "def evaluate_model(model, x_train, y_train, x_test, y_test):\n",
    "    n_trees = model.get_params()['n_estimators']\n",
    "    n_features = x_train.shape[1]\n",
    "\n",
    "    # Train and predict 10 times to evaluate time and accuracy\n",
    "    predictions = []\n",
    "    run_times = []\n",
    "    for _ in range(10):\n",
    "        start_time = time.time()\n",
    "        model.fit(x_train, y_train)\n",
    "        predictions.append(model.predict(x_test))\n",
    "\n",
    "        end_time = time.time()\n",
    "        run_times.append(end_time - start_time)\n",
    "\n",
    "    # Run time and predictions need to be averaged\n",
    "    run_time = np.mean(run_times)\n",
    "    predictions = np.mean(np.array(predictions), axis=0)\n",
    "\n",
    "    # Calculate performance metrics\n",
    "    mae_error = mae(y_test, predictions)\n",
    "    accuracy = 100 - 100 * mae_error / y_test.mean()\n",
    "\n",
    "    # Return results in a dictionary\n",
    "    results = {'time': run_time, 'mae_error': mae_error, 'accuracy': accuracy,\n",
    "               'n_trees': n_trees, 'n_features': n_features}\n",
    "\n",
    "    return results"
   ]
  },
  {
   "cell_type": "code",
   "execution_count": 106,
   "metadata": {},
   "outputs": [],
   "source": [
    "wd_results = evaluate_model(\n",
    "    best_estimator_wd, train_X_wd, train_y_wd, test_X_wd, test_y_wd)\n",
    "wd_results['model'] = 'wd_results'"
   ]
  },
  {
   "cell_type": "code",
   "execution_count": 107,
   "metadata": {},
   "outputs": [],
   "source": [
    "pd_results = evaluate_model(\n",
    "    best_estimator_pd, train_X_pd, train_y_pd, test_X_pd, test_y_pd)\n",
    "pd_results['model'] = 'pd_results'"
   ]
  },
  {
   "cell_type": "code",
   "execution_count": 108,
   "metadata": {},
   "outputs": [],
   "source": [
    "dpd_results = evaluate_model(\n",
    "    best_estimator_dpd, train_X_dpd, train_y_dpd, test_X_dpd, test_y_dpd)\n",
    "dpd_results['model'] = 'dpd_results'"
   ]
  },
  {
   "cell_type": "code",
   "execution_count": 109,
   "metadata": {},
   "outputs": [],
   "source": [
    "ad_results = evaluate_model(\n",
    "    best_estimator_ad, train_X_ad, train_y_ad, test_X_ad, test_y_ad)\n",
    "ad_results['model'] = 'ad_results'"
   ]
  },
  {
   "cell_type": "code",
   "execution_count": 110,
   "metadata": {},
   "outputs": [],
   "source": [
    "adwt_results = evaluate_model(\n",
    "    best_estimator_adwt, train_X_adwt, train_y_adwt, test_X_adwt, test_y_adwt)\n",
    "adwt_results['model'] = 'adwt_results'"
   ]
  },
  {
   "cell_type": "code",
   "execution_count": 173,
   "metadata": {},
   "outputs": [],
   "source": [
    "comparison = {'model': [baseline_results['model'],\n",
    "                        wd_results['model']],\n",
    "              'accuracy': [round(baseline_results['accuracy'], 3),\n",
    "                           round(wd_results['accuracy'], 3)],\n",
    "              'mae_error': [round(baseline_results['mae_error'], 3),\n",
    "                            round(wd_results['mae_error'], 3)],\n",
    "              'n_features': [baseline_results['n_features'],\n",
    "                             wd_results['n_features']],\n",
    "              'n_trees': [baseline_results['n_trees'],\n",
    "                          int(wd_results['n_trees'])],\n",
    "              'time': [round(baseline_results['time'], 4),\n",
    "                       round(wd_results['time'], 4)]}\n",
    "\n",
    "for model in [dpd_results, ad_results, adwt_results, pd_results]:\n",
    "    comparison['accuracy'].append(round(model['accuracy'], 3))\n",
    "    comparison['mae_error'].append(round(model['mae_error'], 3))\n",
    "    comparison['model'].append(model['model'])\n",
    "    comparison['n_features'].append(model['n_features'])\n",
    "    comparison['n_trees'].append(int(model['n_trees']))\n",
    "    comparison['time'].append(round(model['time'], 4))"
   ]
  },
  {
   "cell_type": "code",
   "execution_count": 175,
   "metadata": {},
   "outputs": [],
   "source": [
    "comparison = pd.DataFrame.from_dict(comparison, orient='columns')"
   ]
  },
  {
   "cell_type": "code",
   "execution_count": 176,
   "metadata": {},
   "outputs": [
    {
     "data": {
      "text/html": [
       "<div>\n",
       "<style scoped>\n",
       "    .dataframe tbody tr th:only-of-type {\n",
       "        vertical-align: middle;\n",
       "    }\n",
       "\n",
       "    .dataframe tbody tr th {\n",
       "        vertical-align: top;\n",
       "    }\n",
       "\n",
       "    .dataframe thead th {\n",
       "        text-align: right;\n",
       "    }\n",
       "</style>\n",
       "<table border=\"1\" class=\"dataframe\">\n",
       "  <thead>\n",
       "    <tr style=\"text-align: right;\">\n",
       "      <th></th>\n",
       "      <th>model</th>\n",
       "      <th>accuracy</th>\n",
       "      <th>mae_error</th>\n",
       "      <th>n_features</th>\n",
       "      <th>n_trees</th>\n",
       "      <th>time</th>\n",
       "    </tr>\n",
       "  </thead>\n",
       "  <tbody>\n",
       "    <tr>\n",
       "      <th>0</th>\n",
       "      <td>baseline</td>\n",
       "      <td>86.403</td>\n",
       "      <td>344709.497</td>\n",
       "      <td>3</td>\n",
       "      <td>NaN</td>\n",
       "      <td>NaN</td>\n",
       "    </tr>\n",
       "    <tr>\n",
       "      <th>1</th>\n",
       "      <td>wd_results</td>\n",
       "      <td>90.196</td>\n",
       "      <td>248569.478</td>\n",
       "      <td>52</td>\n",
       "      <td>820.0</td>\n",
       "      <td>5.4862</td>\n",
       "    </tr>\n",
       "    <tr>\n",
       "      <th>2</th>\n",
       "      <td>dpd_results</td>\n",
       "      <td>90.247</td>\n",
       "      <td>247253.953</td>\n",
       "      <td>46</td>\n",
       "      <td>660.0</td>\n",
       "      <td>4.0628</td>\n",
       "    </tr>\n",
       "    <tr>\n",
       "      <th>3</th>\n",
       "      <td>ad_results</td>\n",
       "      <td>90.366</td>\n",
       "      <td>244239.983</td>\n",
       "      <td>58</td>\n",
       "      <td>180.0</td>\n",
       "      <td>1.1670</td>\n",
       "    </tr>\n",
       "    <tr>\n",
       "      <th>4</th>\n",
       "      <td>adwt_results</td>\n",
       "      <td>90.120</td>\n",
       "      <td>250475.951</td>\n",
       "      <td>57</td>\n",
       "      <td>840.0</td>\n",
       "      <td>5.2660</td>\n",
       "    </tr>\n",
       "    <tr>\n",
       "      <th>5</th>\n",
       "      <td>pd_results</td>\n",
       "      <td>90.221</td>\n",
       "      <td>247932.998</td>\n",
       "      <td>40</td>\n",
       "      <td>660.0</td>\n",
       "      <td>4.1919</td>\n",
       "    </tr>\n",
       "  </tbody>\n",
       "</table>\n",
       "</div>"
      ],
      "text/plain": [
       "          model  accuracy   mae_error  n_features  n_trees    time\n",
       "0      baseline    86.403  344709.497           3      NaN     NaN\n",
       "1    wd_results    90.196  248569.478          52    820.0  5.4862\n",
       "2   dpd_results    90.247  247253.953          46    660.0  4.0628\n",
       "3    ad_results    90.366  244239.983          58    180.0  1.1670\n",
       "4  adwt_results    90.120  250475.951          57    840.0  5.2660\n",
       "5    pd_results    90.221  247932.998          40    660.0  4.1919"
      ]
     },
     "execution_count": 176,
     "metadata": {},
     "output_type": "execute_result"
    }
   ],
   "source": [
    "comparison"
   ]
  },
  {
   "cell_type": "markdown",
   "metadata": {},
   "source": [
    "# Plotting"
   ]
  },
  {
   "cell_type": "code",
   "execution_count": 177,
   "metadata": {},
   "outputs": [],
   "source": [
    "import matplotlib.pyplot as plt\n",
    "%matplotlib inline\n",
    "\n",
    "plt.style.use('fivethirtyeight')"
   ]
  },
  {
   "cell_type": "code",
   "execution_count": 182,
   "metadata": {
    "scrolled": false
   },
   "outputs": [
    {
     "data": {
      "image/png": "[encoded data removed]",
      "text/plain": [
       "<Figure size 1008x432 with 2 Axes>"
      ]
     },
     "metadata": {},
     "output_type": "display_data"
    }
   ],
   "source": [
    "xvalues = list(range(len(comparison)))\n",
    "plt.subplots(1, 2, figsize=(14, 6))\n",
    "plt.subplot(121)\n",
    "plt.bar(xvalues, comparison['accuracy'],\n",
    "        color='g', edgecolor='k', linewidth=1.8)\n",
    "plt.xticks(xvalues, comparison['model'], rotation=45, fontsize=12)\n",
    "plt.ylim(ymin=85, ymax=91)\n",
    "plt.xlabel('model')\n",
    "plt.ylabel('Accuracy (%)')\n",
    "plt.title('Accuracy Comparison')\n",
    "\n",
    "plt.subplot(122)\n",
    "plt.bar(xvalues, comparison['mae_error'],\n",
    "        color='r', edgecolor='k', linewidth=1.8)\n",
    "plt.xticks(xvalues, comparison['model'], rotation=45)\n",
    "plt.ylim(ymin=0, ymax=4e5)\n",
    "plt.xlabel('model')\n",
    "plt.ylabel('mae_error (rub)')\n",
    "plt.title('Error Comparison')\n",
    "plt.show()"
   ]
  },
  {
   "cell_type": "markdown",
   "metadata": {},
   "source": [
    "# In conclusion\n",
    "\n",
    "Our results shows that new feature 'decade' improving performance of the model and 3 most empty features slightly decreasing it. But, after all, the most effective way in our case is to use all features. The differences between any model performances is not so impressive compared to increased performance from baseline. This increase from baseline performance let us save 100 000 rubles on the average."
   ]
  }
 ],
 "metadata": {
  "kernelspec": {
   "display_name": "Python 3",
   "language": "python",
   "name": "python3"
  },
  "language_info": {
   "codemirror_mode": {
    "name": "ipython",
    "version": 3
   },
   "file_extension": ".py",
   "mimetype": "text/x-python",
   "name": "python",
   "nbconvert_exporter": "python",
   "pygments_lexer": "ipython3",
   "version": "3.7.6"
  }
 },
 "nbformat": 4,
 "nbformat_minor": 4
}
